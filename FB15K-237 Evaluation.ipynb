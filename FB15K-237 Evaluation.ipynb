{
 "cells": [
  {
   "cell_type": "markdown",
   "metadata": {},
   "source": [
    "## Import packages"
   ]
  },
  {
   "cell_type": "code",
   "execution_count": 1,
   "metadata": {
    "collapsed": false
   },
   "outputs": [
    {
     "name": "stderr",
     "output_type": "stream",
     "text": [
      "Using Theano backend.\n"
     ]
    }
   ],
   "source": [
    "import pandas as pd\n",
    "import numpy as np\n",
    "from sklearn.metrics import label_ranking_average_precision_score\n",
    "from CFModel import CFModel"
   ]
  },
  {
   "cell_type": "markdown",
   "metadata": {},
   "source": [
    "## Define constants"
   ]
  },
  {
   "cell_type": "code",
   "execution_count": 2,
   "metadata": {
    "collapsed": true
   },
   "outputs": [],
   "source": [
    "TEST_CSV_FILE = 'fb15k_test.csv'\n",
    "CVSC_PAIRS_CSV_FILE = 'fb15k_cvsc_pairs.csv'\n",
    "CVSC_RELATIONS_CSV_FILE = 'fb15k_cvsc_relations.csv'\n",
    "MODEL_WEIGHTS_FILE = 'fb15k_cvsc_weights.h5'\n",
    "K_FACTORS = 50"
   ]
  },
  {
   "cell_type": "markdown",
   "metadata": {},
   "source": [
    "## Load FB215-237 data"
   ]
  },
  {
   "cell_type": "code",
   "execution_count": 3,
   "metadata": {
    "collapsed": false
   },
   "outputs": [
    {
     "name": "stderr",
     "output_type": "stream",
     "text": [
      "/Users/bradleyallen/anaconda/envs/dlnotebook/lib/python2.7/site-packages/IPython/core/interactiveshell.py:2723: DtypeWarning: Columns (3) have mixed types. Specify dtype option on import or set low_memory=False.\n",
      "  interactivity=interactivity, compiler=compiler, result=result)\n"
     ]
    }
   ],
   "source": [
    "test_kb_triples = pd.read_csv(TEST_CSV_FILE, sep='\\t', names=['subj', 'rel', 'obj', 'pid', 'rid'])\n",
    "cvsc_pairs = pd.read_csv(CVSC_PAIRS_CSV_FILE, sep='\\t', names=['subj', 'obj', 'pid'])\n",
    "cvsc_relations = pd.read_csv(CVSC_RELATIONS_CSV_FILE, sep='\\t', names=['rel', 'rid'])"
   ]
  },
  {
   "cell_type": "markdown",
   "metadata": {},
   "source": [
    "## Execute evaluation protocol\n",
    "\n",
    "From [[2]](https://www.microsoft.com/en-us/research/wp-content/uploads/2016/02/main_cvsc2015.pdf):\n",
    "\n",
    "> Given a set of triples in a set disjoint from a train- ing\n",
    "> knowledge graph, we test models on predict- ing the subject or\n",
    "> object of each triple, given the relation type and the other\n",
    "> argument. We rank all entities in the training knowledge base in\n",
    "> order of their likelihood of filling the argument position. We\n",
    "> report the mean reciprocal rank of the correct entity, as well as\n",
    "> HITS@10 – the percent of test triples for which the correct\n",
    "> argument was ranked in the top ten. We use filtered measures\n",
    "> following the protocol proposed in Bordes et al. (2013) – that\n",
    "> is, when we rank entities for a given posi- tion, we remove all\n",
    "> other entities that are known to be part of an existing triple in\n",
    "> the training, de- velopment, or test set. This avoids penalizing\n",
    "> the model for ranking other correct fillers higher than the\n",
    "> tested argument. We thus report filtered mean reciprocal\n",
    "> rank (labeled MRR in the Figures), and filtered HITS@10. In the\n",
    "> figures we present MRR values scaled by 100, so that the maximum\n",
    "> possible MRR is 100."
   ]
  },
  {
   "cell_type": "code",
   "execution_count": null,
   "metadata": {
    "collapsed": true
   },
   "outputs": [],
   "source": [
    "trained_model = CFModel(n_pairs, m_relations, K_FACTORS)\n",
    "trained_model.load_weights(MODEL_WEIGHTS_FILE)\n",
    "\n",
    "# Remainder TBD"
   ]
  },
  {
   "cell_type": "markdown",
   "metadata": {},
   "source": [
    "## References\n",
    "\n",
    "[[1]](https://www.microsoft.com/en-us/download/details.aspx?id=52312) K. Toutanova, \"FB215-237 Knowledge Base Completion Dataset,\" Web page https://www.microsoft.com/en-us/download/details.aspx?id=52312, May 2016. Last accessed 2016-08-14.\n",
    "\n",
    "[[2]](https://www.microsoft.com/en-us/research/wp-content/uploads/2016/02/main_cvsc2015.pdf) K. Toutanova and D. Chen, “Observed versus latent features for knowledge base and text inference,” in 3rd Workshop on Continuous Vector Space Models and Their Compositionality, Jul. 2015."
   ]
  }
 ],
 "metadata": {
  "kernelspec": {
   "display_name": "Python 2",
   "language": "python",
   "name": "python2"
  },
  "language_info": {
   "codemirror_mode": {
    "name": "ipython",
    "version": 2
   },
   "file_extension": ".py",
   "mimetype": "text/x-python",
   "name": "python",
   "nbconvert_exporter": "python",
   "pygments_lexer": "ipython2",
   "version": "2.7.11"
  }
 },
 "nbformat": 4,
 "nbformat_minor": 0
}
