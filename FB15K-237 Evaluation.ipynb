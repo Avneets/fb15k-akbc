{
 "cells": [
  {
   "cell_type": "markdown",
   "metadata": {},
   "source": [
    "## Import packages"
   ]
  },
  {
   "cell_type": "code",
   "execution_count": 1,
   "metadata": {
    "collapsed": false
   },
   "outputs": [
    {
     "name": "stderr",
     "output_type": "stream",
     "text": [
      "Using Theano backend.\n",
      "Using gpu device 0: GRID K520 (CNMeM is disabled, cuDNN 5006)\n"
     ]
    }
   ],
   "source": [
    "import pandas as pd\n",
    "import numpy as np\n",
    "from operator import itemgetter\n",
    "from CFModel import CFModel"
   ]
  },
  {
   "cell_type": "markdown",
   "metadata": {},
   "source": [
    "## Define constants"
   ]
  },
  {
   "cell_type": "code",
   "execution_count": 8,
   "metadata": {
    "collapsed": true
   },
   "outputs": [],
   "source": [
    "TEST_CSV_FILE = 'fb15k_test.csv'\n",
    "CVSC_ENTITIES_CSV_FILE = 'fb15k_cvsc_entities.csv'\n",
    "CVSC_PAIRS_CSV_FILE = 'fb15k_cvsc_pairs.csv'\n",
    "MODEL_WEIGHTS_FILE = 'fb15k_cvsc_weights.h5'\n",
    "K_FACTORS = 20"
   ]
  },
  {
   "cell_type": "markdown",
   "metadata": {},
   "source": [
    "## Load FB215-237 data"
   ]
  },
  {
   "cell_type": "code",
   "execution_count": 3,
   "metadata": {
    "collapsed": false
   },
   "outputs": [],
   "source": [
    "triples = pd.read_csv(TEST_CSV_FILE, \n",
    "                      sep='\\t', \n",
    "                      usecols=['subj', 'rel', 'obj', 'pid', 'rid'])\n",
    "entities = pd.read_csv(CVSC_ENTITIES_CSV_FILE, sep='\\t', usecols=['entity'])['entity'].values[1:]\n",
    "entity_pairs = pd.read_csv(CVSC_PAIRS_CSV_FILE, \n",
    "                           sep='\\t', \n",
    "                           usecols=['subj', 'obj', 'pid'])"
   ]
  },
  {
   "cell_type": "markdown",
   "metadata": {},
   "source": [
    "## Print basic dataset statistics"
   ]
  },
  {
   "cell_type": "code",
   "execution_count": 4,
   "metadata": {
    "collapsed": false
   },
   "outputs": [
    {
     "name": "stdout",
     "output_type": "stream",
     "text": [
      "283868 pairs, 237 relations, 14281 entities\n"
     ]
    }
   ],
   "source": [
    "n_pairs = triples['pid'].max() + 1\n",
    "m_relations = triples['rid'].max() + 1\n",
    "l_entities = len(entities)\n",
    "print n_pairs, 'pairs,', m_relations, 'relations,', l_entities, 'entities'"
   ]
  },
  {
   "cell_type": "markdown",
   "metadata": {},
   "source": [
    "## Load model weights into evaluation model"
   ]
  },
  {
   "cell_type": "code",
   "execution_count": 9,
   "metadata": {
    "collapsed": false
   },
   "outputs": [],
   "source": [
    "model = CFModel(n_pairs, m_relations, K_FACTORS)\n",
    "model.load_weights(MODEL_WEIGHTS_FILE)"
   ]
  },
  {
   "cell_type": "markdown",
   "metadata": {},
   "source": [
    "## Execute evaluation protocol\n",
    "\n",
    "From [[2]](https://www.microsoft.com/en-us/research/wp-content/uploads/2016/02/main_cvsc2015.pdf):\n",
    "\n",
    "> Given a set of triples in a set disjoint from a training\n",
    "> knowledge graph, we test models on predicting the subject or\n",
    "> object of each triple, given the relation type and the other\n",
    "> argument. We rank all entities in the training knowledge base in\n",
    "> order of their likelihood of filling the argument position. We\n",
    "> report the mean reciprocal rank of the correct entity, as well as\n",
    "> HITS@10 – the percent of test triples for which the correct\n",
    "> argument was ranked in the top ten. We use filtered measures\n",
    "> following the protocol proposed in Bordes et al. (2013) – that\n",
    "> is, when we rank entities for a given position, we remove all\n",
    "> other entities that are known to be part of an existing triple in\n",
    "> the training, development, or test set. This avoids penalizing\n",
    "> the model for ranking other correct fillers higher than the\n",
    "> tested argument. We thus report filtered mean reciprocal\n",
    "> rank (labeled MRR in the Figures), and filtered HITS@10. In the\n",
    "> figures we present MRR values scaled by 100, so that the maximum\n",
    "> possible MRR is 100."
   ]
  },
  {
   "cell_type": "markdown",
   "metadata": {},
   "source": [
    "** *Note: filtering not yet implemented, code neither complete nor debugged for non-filtering case anyways* **"
   ]
  },
  {
   "cell_type": "code",
   "execution_count": 52,
   "metadata": {
    "collapsed": false
   },
   "outputs": [],
   "source": [
    "def sp_query_reciprocal_rank(model, subj, rid, obj, entities):\n",
    "    objs = [ result[0] for result in sp_query_results(model, subj, rid, entities) ]\n",
    "    return reciprocal_rank(obj, objs)\n",
    "\n",
    "def sp_query_hits_at_10(model, subj, rid, obj, entities):\n",
    "    objs = [ result[0] for result in sp_query_results(model, subj, rid, entities) ]\n",
    "    if obj in objs[:10]:\n",
    "        return 1.0\n",
    "    else:\n",
    "        return 0.0\n",
    "\n",
    "def sp_query_results(model, subj, rid, entities):\n",
    "    return sorted([ [ subj, model.rank(pid, rid) ] for pid in sp_query_pairs(subj, entities) ], \n",
    "                  reverse=True, \n",
    "                  key=itemgetter(1))\n",
    "\n",
    "def sp_query_pairs(subj, entities):\n",
    "    return [ pair_id(subj, obj) for obj in entities if pair_id(subj, obj) > -1 ]\n",
    "\n",
    "def po_query_reciprocal_rank(model, subj, rid, obj, entities):\n",
    "    subjs = [ result[0] for result in po_query_results(model, obj, rid, entities) ]\n",
    "    return reciprocal_rank(subj, subjs)\n",
    "\n",
    "def po_query_hits_at_10(model, subj, rid, obj, entities):\n",
    "    subjs = [ result[0] for result in po_query_results(model, obj, rid, entities) ]\n",
    "    if subj in subjs[:10]:\n",
    "        return 1.0\n",
    "    else:\n",
    "        return 0.0\n",
    "\n",
    "def po_query_results(model, obj, rid, entities):\n",
    "    return sorted([ [ obj, model.rank(pid, rid) ] for pid in sp_query_pairs(subj, entities) ], \n",
    "                  reverse=True, \n",
    "                  key=itemgetter(1))\n",
    "\n",
    "def po_query_pairs(obj, entities):\n",
    "    return [ pair_id(subj, obj) for subj in entities if pair_id(subj, obj) > -1]\n",
    "\n",
    "def pair_id(subj, obj):\n",
    "    pair = entity_pairs[(entity_pairs['subj'] == subj) & (entity_pairs['obj'] == obj)]\n",
    "    if len(pair) > 0:\n",
    "        return pair['pid'].values[0]\n",
    "    else:\n",
    "        return -1\n",
    "\n",
    "def reciprocal_rank(correct_response, responses):\n",
    "    return 1. / np.float(np.where(responses == correct_response)[0][0])"
   ]
  },
  {
   "cell_type": "code",
   "execution_count": 13,
   "metadata": {
    "collapsed": false
   },
   "outputs": [],
   "source": [
    "pairs = entity_pairs.to_dict(orient='records')\n",
    "subj_idx = {}\n",
    "obj_idx = {}\n",
    "for pair in pairs:\n",
    "    subj = pair['subj']\n",
    "    obj = pair['obj']\n",
    "    pid = pair['pid']\n",
    "    if subj not in subj_idx.keys():\n",
    "        subj_idx[subj] = {}\n",
    "    if obj not in obj_idx.keys():\n",
    "        obj_idx[obj] = {}\n",
    "    subj_idx[subj][obj] = pid\n",
    "    obj_idx[obj][subj] = pid"
   ]
  },
  {
   "cell_type": "code",
   "execution_count": 14,
   "metadata": {
    "collapsed": false
   },
   "outputs": [],
   "source": [
    "tuples = triples.to_dict(orient='records')"
   ]
  },
  {
   "cell_type": "code",
   "execution_count": 32,
   "metadata": {
    "collapsed": false
   },
   "outputs": [
    {
     "data": {
      "text/plain": [
       "(array([], dtype=int64),)"
      ]
     },
     "execution_count": 32,
     "metadata": {},
     "output_type": "execute_result"
    }
   ],
   "source": [
    "np.where(np.array(['fee', 'fi', 'foo', 'fum']) == 'wubba')"
   ]
  },
  {
   "cell_type": "code",
   "execution_count": null,
   "metadata": {
    "collapsed": false
   },
   "outputs": [
    {
     "name": "stdout",
     "output_type": "stream",
     "text": [
      "/m/05lf_ []\n",
      "/m/01q99h []\n",
      "/m/0f8l9c []\n",
      "/m/013t85 [3362]\n",
      "/m/0m0bj [1282]\n",
      "/m/04ghz4m []\n",
      "/m/04y9mm8 []\n",
      "/m/04j53 []\n",
      "/m/082gq []\n",
      "/m/029q3k [13]\n",
      "/m/0jgd []\n",
      "/m/0dxmyh []\n"
     ]
    }
   ],
   "source": [
    "for tuple in tuples:\n",
    "    scores = []\n",
    "    subj = tuple['subj']\n",
    "    rid = tuple['rid']\n",
    "    obj = tuple['obj']\n",
    "    for entity in entities:\n",
    "        if subj in subj_idx.keys() and entity in subj_idx[subj].keys():\n",
    "            pid = subj_idx[subj][entity]\n",
    "            score = model.rate(pid, rid)\n",
    "            scores.append([entity, score])\n",
    "    scores = sorted(scores, reverse=True, key=itemgetter(1))\n",
    "    results = [ x[0] for x in scores ]\n",
    "    print obj, np.where(np.array(results) == obj)[0]"
   ]
  },
  {
   "cell_type": "code",
   "execution_count": 28,
   "metadata": {
    "collapsed": false
   },
   "outputs": [
    {
     "data": {
      "text/html": [
       "<div>\n",
       "<table border=\"1\" class=\"dataframe\">\n",
       "  <thead>\n",
       "    <tr style=\"text-align: right;\">\n",
       "      <th></th>\n",
       "      <th>subj</th>\n",
       "      <th>rel</th>\n",
       "      <th>obj</th>\n",
       "      <th>pid</th>\n",
       "      <th>rid</th>\n",
       "    </tr>\n",
       "  </thead>\n",
       "  <tbody>\n",
       "    <tr>\n",
       "      <th>0</th>\n",
       "      <td>/m/08966</td>\n",
       "      <td>/travel/travel_destination/climate./travel/tra...</td>\n",
       "      <td>/m/05lf_</td>\n",
       "      <td>263691</td>\n",
       "      <td>148</td>\n",
       "    </tr>\n",
       "    <tr>\n",
       "      <th>1</th>\n",
       "      <td>/m/01hww_</td>\n",
       "      <td>/music/performance_role/regular_performances./...</td>\n",
       "      <td>/m/01q99h</td>\n",
       "      <td>263692</td>\n",
       "      <td>92</td>\n",
       "    </tr>\n",
       "    <tr>\n",
       "      <th>2</th>\n",
       "      <td>/m/09v3jyg</td>\n",
       "      <td>/film/film/release_date_s./film/film_regional_...</td>\n",
       "      <td>/m/0f8l9c</td>\n",
       "      <td>263693</td>\n",
       "      <td>13</td>\n",
       "    </tr>\n",
       "  </tbody>\n",
       "</table>\n",
       "</div>"
      ],
      "text/plain": [
       "         subj                                                rel        obj  \\\n",
       "0    /m/08966  /travel/travel_destination/climate./travel/tra...   /m/05lf_   \n",
       "1   /m/01hww_  /music/performance_role/regular_performances./...  /m/01q99h   \n",
       "2  /m/09v3jyg  /film/film/release_date_s./film/film_regional_...  /m/0f8l9c   \n",
       "\n",
       "      pid  rid  \n",
       "0  263691  148  \n",
       "1  263692   92  \n",
       "2  263693   13  "
      ]
     },
     "execution_count": 28,
     "metadata": {},
     "output_type": "execute_result"
    }
   ],
   "source": [
    "triples.head(3)"
   ]
  },
  {
   "cell_type": "code",
   "execution_count": 13,
   "metadata": {
    "collapsed": false
   },
   "outputs": [
    {
     "data": {
      "text/html": [
       "<div>\n",
       "<table border=\"1\" class=\"dataframe\">\n",
       "  <thead>\n",
       "    <tr style=\"text-align: right;\">\n",
       "      <th></th>\n",
       "      <th>subj</th>\n",
       "      <th>obj</th>\n",
       "      <th>pid</th>\n",
       "    </tr>\n",
       "  </thead>\n",
       "  <tbody>\n",
       "    <tr>\n",
       "      <th>0</th>\n",
       "      <td>/m/027rn</td>\n",
       "      <td>/m/06cx9</td>\n",
       "      <td>0</td>\n",
       "    </tr>\n",
       "    <tr>\n",
       "      <th>1</th>\n",
       "      <td>/m/017dcd</td>\n",
       "      <td>/m/06v8s0</td>\n",
       "      <td>1</td>\n",
       "    </tr>\n",
       "    <tr>\n",
       "      <th>2</th>\n",
       "      <td>/m/07s9rl0</td>\n",
       "      <td>/m/0170z3</td>\n",
       "      <td>2</td>\n",
       "    </tr>\n",
       "    <tr>\n",
       "      <th>3</th>\n",
       "      <td>/m/01sl1q</td>\n",
       "      <td>/m/044mz_</td>\n",
       "      <td>3</td>\n",
       "    </tr>\n",
       "    <tr>\n",
       "      <th>4</th>\n",
       "      <td>/m/0cnk2q</td>\n",
       "      <td>/m/02nzb8</td>\n",
       "      <td>4</td>\n",
       "    </tr>\n",
       "  </tbody>\n",
       "</table>\n",
       "</div>"
      ],
      "text/plain": [
       "         subj        obj  pid\n",
       "0    /m/027rn   /m/06cx9    0\n",
       "1   /m/017dcd  /m/06v8s0    1\n",
       "2  /m/07s9rl0  /m/0170z3    2\n",
       "3   /m/01sl1q  /m/044mz_    3\n",
       "4   /m/0cnk2q  /m/02nzb8    4"
      ]
     },
     "execution_count": 13,
     "metadata": {},
     "output_type": "execute_result"
    }
   ],
   "source": [
    "entity_pairs.head(5)"
   ]
  },
  {
   "cell_type": "code",
   "execution_count": 27,
   "metadata": {
    "collapsed": false
   },
   "outputs": [
    {
     "name": "stdout",
     "output_type": "stream",
     "text": [
      "/m/09c7w0 171784\n",
      "/m/01n7q 1574663\n",
      "/m/02_286 1587424\n",
      "/m/07b_l 222038\n",
      "/m/0f2wj 1371196\n",
      "/m/027rn 263890\n",
      "/m/030qb3t 872911\n",
      "/m/03gh4 648956\n",
      "/m/01rzqj 1788071\n",
      "/m/0gsgr 2827105\n",
      "/m/0f2tj 2888182\n",
      "/m/01vq3 2667718\n",
      "/m/01vvyd8 1180479\n",
      "/m/04h9h 2612222\n",
      "/m/019pm_ 2424398\n",
      "/m/0f2w0 183894\n",
      "/m/0151ns 835523\n",
      "/m/05r7t 189971\n",
      "/m/0bth54 147213\n",
      "/m/0f4vbz 1598898\n",
      "/m/0227vl 1479822\n",
      "/m/01vw20_ 1806086\n",
      "/m/0jfx1 2887349\n",
      "/m/029j_ 885065\n",
      "/m/0cgbf 1068570\n",
      "/m/01b7h8 1393620\n",
      "/m/05qg6g 338119\n",
      "/m/06w2sn5 595257\n",
      "/m/03lt8g 1699776\n",
      "/m/08phg9 2909950\n",
      "/m/0hvb2 2668270\n",
      "/m/03v3xp 2507885\n",
      "/m/0828jw 152541\n",
      "/m/06cv1 1068571\n",
      "/m/012xdf 2873677\n",
      "/m/0c1pj 2166231\n",
      "/m/015f7 2801017\n",
      "/m/036hf4 2618462\n",
      "/m/016tw3 955114\n",
      "/m/01pgzn_ 868489\n",
      "/m/0bq2g 2507886\n",
      "/m/049qx 151042\n",
      "/m/01whg97 2777501\n",
      "/m/01f6zc 2423221\n",
      "/m/03_x5t 1699777\n",
      "/m/012vd6 2925437\n",
      "/m/01vw8mh 2028657\n",
      "/m/01lly5 2821300\n",
      "/m/01g23m 2873128\n",
      "/m/0gn30 1767766\n",
      "/m/01jfrg 1478730\n",
      "/m/01wxyx1 1180480\n",
      "/m/0436kgz 2285460\n",
      "/m/03_gd 1235462\n",
      "/m/06cgy 988787\n",
      "/m/01vwllw 2438476\n",
      "/m/05mkhs 1721264\n",
      "/m/0f5xn 1180478\n",
      "/m/02114t 2936537\n",
      "/m/01yf85 700577\n",
      "/m/022q32 60778\n",
      "/m/0h96g 338120\n",
      "/m/02k21g 2618465\n",
      "/m/0hqly 988788\n",
      "/m/018ygt 2424396\n",
      "/m/04mhxx 2160095\n",
      "/m/044mz_ 3\n",
      "/m/06x58 2160093\n",
      "/m/01f7dd 2540764\n",
      "/m/01xllf 719145\n",
      "/m/02m501 1562511\n",
      "/m/043zg 2160094\n",
      "/m/05bnp0 2936538\n",
      "/m/044mvs 215572\n",
      "/m/0mskq 2601571\n",
      "/m/019vgs 2414929\n",
      "/m/06rgq 2801022\n",
      "/m/0lk90 1478729\n",
      "/m/0170s4 1682332\n",
      "/m/017s11 2046397\n",
      "/m/016fjj 2423220\n",
      "/m/086nl7 2618463\n",
      "/m/04q827 1692672\n",
      "/m/0bksh 2285462\n",
      "/m/06lvlf 2212630\n",
      "/m/03fbb6 338121\n",
      "/m/0mb31 2635223\n",
      "/m/0dvld 2602447\n",
      "/m/01hkhq 2029891\n",
      "/m/02j490 2016945\n",
      "/m/035gjq 2424399\n",
      "/m/02s_qz 595256\n",
      "/m/01713c 2285461\n",
      "/m/0794g 992180\n",
      "/m/016xh5 2507884\n",
      "/m/04mlmx 2331445\n",
      "/m/0b68vs 2390253\n",
      "/m/06s7rd 797519\n",
      "/m/0451j 920556\n",
      "/m/0w7c 1987811\n",
      "/m/01xcr4 2676975\n",
      "/m/01qscs 2285459\n",
      "/m/043tvp3 2909949\n",
      "/m/01cj6y 2739569\n",
      "/m/01sl1q 992176\n",
      "/m/04zqmj 338122\n",
      "/m/028r4y 2641131\n",
      "/m/037d35 2987134\n",
      "/m/058s44 2438475\n",
      "/m/02zyy4 920558\n",
      "/m/03xmy1 2212974\n",
      "/m/06w6_ 2801019\n",
      "/m/02zsn 32872\n",
      "/m/019lxm 2683544\n",
      "/m/018yj6 2424397\n",
      "/m/04wp3s 2759975\n",
      "/m/025n3p 138614\n",
      "/m/01wkmgb 1806085\n",
      "/m/03_6y 2212631\n",
      "/m/01kwsg 2873676\n",
      "/m/044mjy 11793\n",
      "/m/026c1 1591802\n",
      "/m/03_wj_ 1270\n",
      "/m/02jyhv 2195028\n",
      "/m/016k6x 920557\n",
      "/m/01w61th 2541090\n",
      "/m/0bq6ntw 163985\n",
      "/m/0jlv5 2873129\n",
      "/m/01l9p 1833493\n",
      "/m/02k4gv 123131\n",
      "/m/01wbsdz 2553033\n",
      "/m/033jj1 2541091\n",
      "/m/02y_j8g 992177\n",
      "/m/016ks_ 2984479\n",
      "/m/0161sp 1894065\n",
      "/m/0ct2tf5 238571\n",
      "/m/0205dx 2749387\n",
      "/m/03pmzt 2551579\n",
      "/m/0g824 2801021\n",
      "/m/0hfml 2091334\n",
      "/m/01ccr8 2970608\n",
      "/m/03_wvl 82203\n",
      "/m/033w9g 142040\n",
      "/m/01vxxb 1258877\n",
      "/m/016z1t 2769794\n",
      "/m/03hhd3 2423222\n",
      "/m/048hf 2507887\n",
      "/m/084qpk 1925632\n",
      "/m/03_wpf 60251\n",
      "/m/02hrh1q 232955\n",
      "/m/03ds83 2697071\n",
      "/m/0259r0 2995017\n",
      "/m/06lht1 2618464\n",
      "/m/01m4yn 1770185\n",
      "/m/02w5q6 2629676\n",
      "/m/01kgxf 686844\n",
      "/m/02q7yfq 254488\n",
      "/m/05bpg3 2551972\n",
      "/m/02hzz 2157287\n",
      "/m/01ry0f 2618466\n",
      "/m/025t9b 885063\n",
      "/m/029k55 700575\n",
      "/m/054lpb6 2046396\n",
      "/m/016z68 2540765\n",
      "/m/022yb4 2668271\n",
      "/m/0175wg 1219737\n",
      "/m/023n39 2914091\n",
      "/m/031ydm 51030\n",
      "/m/03_vx9 2936539\n",
      "/m/02zhkz 2821301\n",
      "/m/05sns6 1598899\n",
      "/m/012_53 2801018\n",
      "/m/044mrh 72023\n",
      "/m/01fyzy 2739570\n",
      "/m/032zg9 1562512\n",
      "/m/01kwld 35794\n",
      "/m/02ts3h 2801020\n",
      "/m/06v8s0 2821302\n",
      "/m/01mt1fy 700576\n",
      "/m/07mz77 2175199\n",
      "/m/044n3h 118874\n",
      "/m/0gtv7pk 149234\n",
      "/m/07f3xb 134300\n",
      "/m/03_wtr 8645\n",
      "/m/0401sg 16614\n",
      "/m/044mm6 22447\n",
      "/m/05b4l5x 102012\n"
     ]
    },
    {
     "data": {
      "text/plain": [
       "0"
      ]
     },
     "execution_count": 27,
     "metadata": {},
     "output_type": "execute_result"
    }
   ],
   "source": [
    "x = []\n",
    "for entity in entities:\n",
    "    if entity in subj_idx['/m/01sl1q'].keys():\n",
    "        print entity, subj_idx['/m/01sl1q'][entity]\n",
    "len(x)"
   ]
  },
  {
   "cell_type": "code",
   "execution_count": null,
   "metadata": {
    "collapsed": true
   },
   "outputs": [],
   "source": [
    "model.rank"
   ]
  },
  {
   "cell_type": "code",
   "execution_count": 25,
   "metadata": {
    "collapsed": false
   },
   "outputs": [
    {
     "data": {
      "text/plain": [
       "20466"
      ]
     },
     "execution_count": 25,
     "metadata": {},
     "output_type": "execute_result"
    }
   ],
   "source": [
    "len(triples)"
   ]
  },
  {
   "cell_type": "code",
   "execution_count": 53,
   "metadata": {
    "collapsed": false
   },
   "outputs": [
    {
     "ename": "KeyboardInterrupt",
     "evalue": "",
     "output_type": "error",
     "traceback": [
      "\u001b[0;31m\u001b[0m",
      "\u001b[0;31mKeyboardInterrupt\u001b[0mTraceback (most recent call last)",
      "\u001b[0;32m<ipython-input-53-d54730106684>\u001b[0m in \u001b[0;36m<module>\u001b[0;34m()\u001b[0m\n\u001b[0;32m----> 1\u001b[0;31m \u001b[0mpo_query_pairs\u001b[0m\u001b[0;34m(\u001b[0m\u001b[0;34m'/m/027rn'\u001b[0m\u001b[0;34m,\u001b[0m \u001b[0mentities\u001b[0m\u001b[0;34m)\u001b[0m\u001b[0;34m\u001b[0m\u001b[0m\n\u001b[0m",
      "\u001b[0;32m<ipython-input-52-1d70c4fc9373>\u001b[0m in \u001b[0;36mpo_query_pairs\u001b[0;34m(obj, entities)\u001b[0m\n\u001b[1;32m     35\u001b[0m \u001b[0;34m\u001b[0m\u001b[0m\n\u001b[1;32m     36\u001b[0m \u001b[0;32mdef\u001b[0m \u001b[0mpo_query_pairs\u001b[0m\u001b[0;34m(\u001b[0m\u001b[0mobj\u001b[0m\u001b[0;34m,\u001b[0m \u001b[0mentities\u001b[0m\u001b[0;34m)\u001b[0m\u001b[0;34m:\u001b[0m\u001b[0;34m\u001b[0m\u001b[0m\n\u001b[0;32m---> 37\u001b[0;31m     \u001b[0;32mreturn\u001b[0m \u001b[0;34m[\u001b[0m \u001b[0mpair_id\u001b[0m\u001b[0;34m(\u001b[0m\u001b[0msubj\u001b[0m\u001b[0;34m,\u001b[0m \u001b[0mobj\u001b[0m\u001b[0;34m)\u001b[0m \u001b[0;32mfor\u001b[0m \u001b[0msubj\u001b[0m \u001b[0;32min\u001b[0m \u001b[0mentities\u001b[0m \u001b[0;32mif\u001b[0m \u001b[0mpair_id\u001b[0m\u001b[0;34m(\u001b[0m\u001b[0msubj\u001b[0m\u001b[0;34m,\u001b[0m \u001b[0mobj\u001b[0m\u001b[0;34m)\u001b[0m \u001b[0;34m>\u001b[0m \u001b[0;34m-\u001b[0m\u001b[0;36m1\u001b[0m\u001b[0;34m]\u001b[0m\u001b[0;34m\u001b[0m\u001b[0m\n\u001b[0m\u001b[1;32m     38\u001b[0m \u001b[0;34m\u001b[0m\u001b[0m\n\u001b[1;32m     39\u001b[0m \u001b[0;32mdef\u001b[0m \u001b[0mpair_id\u001b[0m\u001b[0;34m(\u001b[0m\u001b[0msubj\u001b[0m\u001b[0;34m,\u001b[0m \u001b[0mobj\u001b[0m\u001b[0;34m)\u001b[0m\u001b[0;34m:\u001b[0m\u001b[0;34m\u001b[0m\u001b[0m\n",
      "\u001b[0;32m<ipython-input-52-1d70c4fc9373>\u001b[0m in \u001b[0;36mpair_id\u001b[0;34m(subj, obj)\u001b[0m\n\u001b[1;32m     38\u001b[0m \u001b[0;34m\u001b[0m\u001b[0m\n\u001b[1;32m     39\u001b[0m \u001b[0;32mdef\u001b[0m \u001b[0mpair_id\u001b[0m\u001b[0;34m(\u001b[0m\u001b[0msubj\u001b[0m\u001b[0;34m,\u001b[0m \u001b[0mobj\u001b[0m\u001b[0;34m)\u001b[0m\u001b[0;34m:\u001b[0m\u001b[0;34m\u001b[0m\u001b[0m\n\u001b[0;32m---> 40\u001b[0;31m     \u001b[0mpair\u001b[0m \u001b[0;34m=\u001b[0m \u001b[0mentity_pairs\u001b[0m\u001b[0;34m[\u001b[0m\u001b[0;34m(\u001b[0m\u001b[0mentity_pairs\u001b[0m\u001b[0;34m[\u001b[0m\u001b[0;34m'subj'\u001b[0m\u001b[0;34m]\u001b[0m \u001b[0;34m==\u001b[0m \u001b[0msubj\u001b[0m\u001b[0;34m)\u001b[0m \u001b[0;34m&\u001b[0m \u001b[0;34m(\u001b[0m\u001b[0mentity_pairs\u001b[0m\u001b[0;34m[\u001b[0m\u001b[0;34m'obj'\u001b[0m\u001b[0;34m]\u001b[0m \u001b[0;34m==\u001b[0m \u001b[0mobj\u001b[0m\u001b[0;34m)\u001b[0m\u001b[0;34m]\u001b[0m\u001b[0;34m\u001b[0m\u001b[0m\n\u001b[0m\u001b[1;32m     41\u001b[0m     \u001b[0;32mif\u001b[0m \u001b[0mlen\u001b[0m\u001b[0;34m(\u001b[0m\u001b[0mpair\u001b[0m\u001b[0;34m)\u001b[0m \u001b[0;34m>\u001b[0m \u001b[0;36m0\u001b[0m\u001b[0;34m:\u001b[0m\u001b[0;34m\u001b[0m\u001b[0m\n\u001b[1;32m     42\u001b[0m         \u001b[0;32mreturn\u001b[0m \u001b[0mpair\u001b[0m\u001b[0;34m[\u001b[0m\u001b[0;34m'pid'\u001b[0m\u001b[0;34m]\u001b[0m\u001b[0;34m.\u001b[0m\u001b[0mvalues\u001b[0m\u001b[0;34m[\u001b[0m\u001b[0;36m0\u001b[0m\u001b[0;34m]\u001b[0m\u001b[0;34m\u001b[0m\u001b[0m\n",
      "\u001b[0;32m/usr/local/lib/python2.7/dist-packages/pandas/core/ops.pyc\u001b[0m in \u001b[0;36mwrapper\u001b[0;34m(self, other, axis)\u001b[0m\n\u001b[1;32m    761\u001b[0m                 \u001b[0mother\u001b[0m \u001b[0;34m=\u001b[0m \u001b[0mnp\u001b[0m\u001b[0;34m.\u001b[0m\u001b[0masarray\u001b[0m\u001b[0;34m(\u001b[0m\u001b[0mother\u001b[0m\u001b[0;34m)\u001b[0m\u001b[0;34m\u001b[0m\u001b[0m\n\u001b[1;32m    762\u001b[0m \u001b[0;34m\u001b[0m\u001b[0m\n\u001b[0;32m--> 763\u001b[0;31m             \u001b[0mres\u001b[0m \u001b[0;34m=\u001b[0m \u001b[0mna_op\u001b[0m\u001b[0;34m(\u001b[0m\u001b[0mvalues\u001b[0m\u001b[0;34m,\u001b[0m \u001b[0mother\u001b[0m\u001b[0;34m)\u001b[0m\u001b[0;34m\u001b[0m\u001b[0m\n\u001b[0m\u001b[1;32m    764\u001b[0m             \u001b[0;32mif\u001b[0m \u001b[0misscalar\u001b[0m\u001b[0;34m(\u001b[0m\u001b[0mres\u001b[0m\u001b[0;34m)\u001b[0m\u001b[0;34m:\u001b[0m\u001b[0;34m\u001b[0m\u001b[0m\n\u001b[1;32m    765\u001b[0m                 raise TypeError('Could not compare %s type with Series' %\n",
      "\u001b[0;32m/usr/local/lib/python2.7/dist-packages/pandas/core/ops.pyc\u001b[0m in \u001b[0;36mna_op\u001b[0;34m(x, y)\u001b[0m\n\u001b[1;32m    681\u001b[0m                     \u001b[0mresult\u001b[0m \u001b[0;34m=\u001b[0m \u001b[0mlib\u001b[0m\u001b[0;34m.\u001b[0m\u001b[0mvec_compare\u001b[0m\u001b[0;34m(\u001b[0m\u001b[0mx\u001b[0m\u001b[0;34m,\u001b[0m \u001b[0my\u001b[0m\u001b[0;34m,\u001b[0m \u001b[0mop\u001b[0m\u001b[0;34m)\u001b[0m\u001b[0;34m\u001b[0m\u001b[0m\n\u001b[1;32m    682\u001b[0m             \u001b[0;32melse\u001b[0m\u001b[0;34m:\u001b[0m\u001b[0;34m\u001b[0m\u001b[0m\n\u001b[0;32m--> 683\u001b[0;31m                 \u001b[0mresult\u001b[0m \u001b[0;34m=\u001b[0m \u001b[0mlib\u001b[0m\u001b[0;34m.\u001b[0m\u001b[0mscalar_compare\u001b[0m\u001b[0;34m(\u001b[0m\u001b[0mx\u001b[0m\u001b[0;34m,\u001b[0m \u001b[0my\u001b[0m\u001b[0;34m,\u001b[0m \u001b[0mop\u001b[0m\u001b[0;34m)\u001b[0m\u001b[0;34m\u001b[0m\u001b[0m\n\u001b[0m\u001b[1;32m    684\u001b[0m         \u001b[0;32melse\u001b[0m\u001b[0;34m:\u001b[0m\u001b[0;34m\u001b[0m\u001b[0m\n\u001b[1;32m    685\u001b[0m \u001b[0;34m\u001b[0m\u001b[0m\n",
      "\u001b[0;31mKeyboardInterrupt\u001b[0m: "
     ]
    }
   ],
   "source": [
    "po_query_pairs('/m/027rn', entities)"
   ]
  },
  {
   "cell_type": "code",
   "execution_count": 36,
   "metadata": {
    "collapsed": false
   },
   "outputs": [
    {
     "name": "stdout",
     "output_type": "stream",
     "text": [
      "0          /m/08966\n",
      "1         /m/01hww_\n",
      "2        /m/09v3jyg\n",
      "3          /m/02jx1\n",
      "4          /m/02jx1\n",
      "5         /m/02bfmn\n",
      "6        /m/05zrvfd\n",
      "7          /m/060bp\n",
      "8         /m/07l450\n",
      "9         /m/07h1h5\n",
      "10       /m/0djb3vw\n",
      "11         /m/031y2\n",
      "12         /m/01d8l\n",
      "13         /m/0ydpd\n",
      "14        /m/0738b8\n",
      "15         /m/070xg\n",
      "16         /m/0mwk9\n",
      "17        /m/09306z\n",
      "18         /m/0kbws\n",
      "19         /m/0kbws\n",
      "20        /m/017j69\n",
      "21         /m/07z1m\n",
      "22       /m/03gqgt3\n",
      "23        /m/01c9f2\n",
      "24        /m/01c9f2\n",
      "25         /m/01lp8\n",
      "26        /m/01xwqn\n",
      "27       /m/065ym0c\n",
      "28        /m/06kxk2\n",
      "29        /m/08q1tg\n",
      "            ...    \n",
      "20436    /m/043sct5\n",
      "20437      /m/0c921\n",
      "20438      /m/0d085\n",
      "20439     /m/05mt_q\n",
      "20440     /m/02hct1\n",
      "20441     /m/084qpk\n",
      "20442      /m/085h1\n",
      "20443      /m/0glnm\n",
      "20444       /m/0mkg\n",
      "20445      /m/0gthm\n",
      "20446    /m/0gvvf4j\n",
      "20447      /m/0b3wk\n",
      "20448      /m/0l15n\n",
      "20449      /m/0_565\n",
      "20450    /m/02ppm4q\n",
      "20451     /m/03q3sy\n",
      "20452    /m/0gl02yg\n",
      "20453      /m/0fkvn\n",
      "20454    /m/05q8pss\n",
      "20455      /m/0c9c0\n",
      "20456      /m/0fx2s\n",
      "20457      /m/01w5m\n",
      "20458    /m/03cmsqb\n",
      "20459      /m/04yt7\n",
      "20460     /m/02lk60\n",
      "20461      /m/0l5yl\n",
      "20462     /m/01z5tr\n",
      "20463      /m/0p5mw\n",
      "20464      /m/0727h\n",
      "20465     /m/050r1z\n",
      "Name: subj, dtype: object /m/0dclg\n"
     ]
    },
    {
     "ename": "ValueError",
     "evalue": "Series lengths must match to compare",
     "output_type": "error",
     "traceback": [
      "\u001b[0;31m\u001b[0m",
      "\u001b[0;31mValueError\u001b[0mTraceback (most recent call last)",
      "\u001b[0;32m<ipython-input-36-be26a88e3088>\u001b[0m in \u001b[0;36m<module>\u001b[0;34m()\u001b[0m\n\u001b[0;32m----> 1\u001b[0;31m \u001b[0mtriples\u001b[0m\u001b[0;34m[\u001b[0m\u001b[0;34m'sp_reciprocal_rank'\u001b[0m\u001b[0;34m]\u001b[0m \u001b[0;34m=\u001b[0m \u001b[0msp_query_reciprocal_rank\u001b[0m\u001b[0;34m(\u001b[0m\u001b[0mmodel\u001b[0m\u001b[0;34m,\u001b[0m \u001b[0mtriples\u001b[0m\u001b[0;34m[\u001b[0m\u001b[0;34m'subj'\u001b[0m\u001b[0;34m]\u001b[0m\u001b[0;34m,\u001b[0m \u001b[0mtriples\u001b[0m\u001b[0;34m[\u001b[0m\u001b[0;34m'rid'\u001b[0m\u001b[0;34m]\u001b[0m\u001b[0;34m,\u001b[0m \u001b[0mtriples\u001b[0m\u001b[0;34m[\u001b[0m\u001b[0;34m'obj'\u001b[0m\u001b[0;34m]\u001b[0m\u001b[0;34m,\u001b[0m \u001b[0mentities\u001b[0m\u001b[0;34m)\u001b[0m\u001b[0;34m\u001b[0m\u001b[0m\n\u001b[0m\u001b[1;32m      2\u001b[0m \u001b[0mtriples\u001b[0m\u001b[0;34m[\u001b[0m\u001b[0;34m'po_reciprocal_rank'\u001b[0m\u001b[0;34m]\u001b[0m \u001b[0;34m=\u001b[0m \u001b[0mpo_query_reciprocal_rank\u001b[0m\u001b[0;34m(\u001b[0m\u001b[0mmodel\u001b[0m\u001b[0;34m,\u001b[0m \u001b[0mtriples\u001b[0m\u001b[0;34m[\u001b[0m\u001b[0;34m'subj'\u001b[0m\u001b[0;34m]\u001b[0m\u001b[0;34m,\u001b[0m \u001b[0mtriples\u001b[0m\u001b[0;34m[\u001b[0m\u001b[0;34m'rid'\u001b[0m\u001b[0;34m]\u001b[0m\u001b[0;34m,\u001b[0m \u001b[0mtriples\u001b[0m\u001b[0;34m[\u001b[0m\u001b[0;34m'obj'\u001b[0m\u001b[0;34m]\u001b[0m\u001b[0;34m,\u001b[0m \u001b[0mentities\u001b[0m\u001b[0;34m)\u001b[0m\u001b[0;34m\u001b[0m\u001b[0m\n\u001b[1;32m      3\u001b[0m \u001b[0mtriples\u001b[0m\u001b[0;34m[\u001b[0m\u001b[0;34m'sp_hits_at_10'\u001b[0m\u001b[0;34m]\u001b[0m \u001b[0;34m=\u001b[0m \u001b[0msp_query_hits_at_10\u001b[0m\u001b[0;34m(\u001b[0m\u001b[0mmodel\u001b[0m\u001b[0;34m,\u001b[0m \u001b[0mtriples\u001b[0m\u001b[0;34m[\u001b[0m\u001b[0;34m'subj'\u001b[0m\u001b[0;34m]\u001b[0m\u001b[0;34m,\u001b[0m \u001b[0mtriples\u001b[0m\u001b[0;34m[\u001b[0m\u001b[0;34m'rid'\u001b[0m\u001b[0;34m]\u001b[0m\u001b[0;34m,\u001b[0m \u001b[0mtriples\u001b[0m\u001b[0;34m[\u001b[0m\u001b[0;34m'obj'\u001b[0m\u001b[0;34m]\u001b[0m\u001b[0;34m,\u001b[0m \u001b[0mentities\u001b[0m\u001b[0;34m)\u001b[0m\u001b[0;34m\u001b[0m\u001b[0m\n\u001b[1;32m      4\u001b[0m \u001b[0mtriples\u001b[0m\u001b[0;34m[\u001b[0m\u001b[0;34m'po_hits_at_10'\u001b[0m\u001b[0;34m]\u001b[0m \u001b[0;34m=\u001b[0m \u001b[0mpo_query_hits_at_10\u001b[0m\u001b[0;34m(\u001b[0m\u001b[0mmodel\u001b[0m\u001b[0;34m,\u001b[0m \u001b[0mtriples\u001b[0m\u001b[0;34m[\u001b[0m\u001b[0;34m'subj'\u001b[0m\u001b[0;34m]\u001b[0m\u001b[0;34m,\u001b[0m \u001b[0mtriples\u001b[0m\u001b[0;34m[\u001b[0m\u001b[0;34m'rid'\u001b[0m\u001b[0;34m]\u001b[0m\u001b[0;34m,\u001b[0m \u001b[0mtriples\u001b[0m\u001b[0;34m[\u001b[0m\u001b[0;34m'obj'\u001b[0m\u001b[0;34m]\u001b[0m\u001b[0;34m,\u001b[0m \u001b[0mentities\u001b[0m\u001b[0;34m)\u001b[0m\u001b[0;34m\u001b[0m\u001b[0m\n\u001b[1;32m      5\u001b[0m \u001b[0;34m\u001b[0m\u001b[0m\n",
      "\u001b[0;32m<ipython-input-33-c7c1a4ef0af5>\u001b[0m in \u001b[0;36msp_query_reciprocal_rank\u001b[0;34m(model, subj, rid, obj, entities)\u001b[0m\n\u001b[1;32m      1\u001b[0m \u001b[0;32mdef\u001b[0m \u001b[0msp_query_reciprocal_rank\u001b[0m\u001b[0;34m(\u001b[0m\u001b[0mmodel\u001b[0m\u001b[0;34m,\u001b[0m \u001b[0msubj\u001b[0m\u001b[0;34m,\u001b[0m \u001b[0mrid\u001b[0m\u001b[0;34m,\u001b[0m \u001b[0mobj\u001b[0m\u001b[0;34m,\u001b[0m \u001b[0mentities\u001b[0m\u001b[0;34m)\u001b[0m\u001b[0;34m:\u001b[0m\u001b[0;34m\u001b[0m\u001b[0m\n\u001b[0;32m----> 2\u001b[0;31m     \u001b[0mobjs\u001b[0m \u001b[0;34m=\u001b[0m \u001b[0;34m[\u001b[0m \u001b[0mresult\u001b[0m\u001b[0;34m[\u001b[0m\u001b[0;36m0\u001b[0m\u001b[0;34m]\u001b[0m \u001b[0;32mfor\u001b[0m \u001b[0mresult\u001b[0m \u001b[0;32min\u001b[0m \u001b[0msp_query_results\u001b[0m\u001b[0;34m(\u001b[0m\u001b[0mmodel\u001b[0m\u001b[0;34m,\u001b[0m \u001b[0msubj\u001b[0m\u001b[0;34m,\u001b[0m \u001b[0mrid\u001b[0m\u001b[0;34m,\u001b[0m \u001b[0mentities\u001b[0m\u001b[0;34m)\u001b[0m \u001b[0;34m]\u001b[0m\u001b[0;34m\u001b[0m\u001b[0m\n\u001b[0m\u001b[1;32m      3\u001b[0m     \u001b[0;32mreturn\u001b[0m \u001b[0mreciprocal_rank\u001b[0m\u001b[0;34m(\u001b[0m\u001b[0mobj\u001b[0m\u001b[0;34m,\u001b[0m \u001b[0mobjs\u001b[0m\u001b[0;34m)\u001b[0m\u001b[0;34m\u001b[0m\u001b[0m\n\u001b[1;32m      4\u001b[0m \u001b[0;34m\u001b[0m\u001b[0m\n\u001b[1;32m      5\u001b[0m \u001b[0;32mdef\u001b[0m \u001b[0msp_query_hits_at_10\u001b[0m\u001b[0;34m(\u001b[0m\u001b[0mmodel\u001b[0m\u001b[0;34m,\u001b[0m \u001b[0msubj\u001b[0m\u001b[0;34m,\u001b[0m \u001b[0mrid\u001b[0m\u001b[0;34m,\u001b[0m \u001b[0mobj\u001b[0m\u001b[0;34m,\u001b[0m \u001b[0mentities\u001b[0m\u001b[0;34m)\u001b[0m\u001b[0;34m:\u001b[0m\u001b[0;34m\u001b[0m\u001b[0m\n",
      "\u001b[0;32m<ipython-input-33-c7c1a4ef0af5>\u001b[0m in \u001b[0;36msp_query_results\u001b[0;34m(model, subj, rid, entities)\u001b[0m\n\u001b[1;32m     11\u001b[0m \u001b[0;34m\u001b[0m\u001b[0m\n\u001b[1;32m     12\u001b[0m \u001b[0;32mdef\u001b[0m \u001b[0msp_query_results\u001b[0m\u001b[0;34m(\u001b[0m\u001b[0mmodel\u001b[0m\u001b[0;34m,\u001b[0m \u001b[0msubj\u001b[0m\u001b[0;34m,\u001b[0m \u001b[0mrid\u001b[0m\u001b[0;34m,\u001b[0m \u001b[0mentities\u001b[0m\u001b[0;34m)\u001b[0m\u001b[0;34m:\u001b[0m\u001b[0;34m\u001b[0m\u001b[0m\n\u001b[0;32m---> 13\u001b[0;31m     return sorted([ [ subj, model.rank(pid, rid) ] for pid in sp_query_pairs(subj, entities) ], \n\u001b[0m\u001b[1;32m     14\u001b[0m                   \u001b[0mreverse\u001b[0m\u001b[0;34m=\u001b[0m\u001b[0mTrue\u001b[0m\u001b[0;34m,\u001b[0m\u001b[0;34m\u001b[0m\u001b[0m\n\u001b[1;32m     15\u001b[0m                   key=itemgetter(1))\n",
      "\u001b[0;32m<ipython-input-33-c7c1a4ef0af5>\u001b[0m in \u001b[0;36msp_query_pairs\u001b[0;34m(subj, entities)\u001b[0m\n\u001b[1;32m     16\u001b[0m \u001b[0;34m\u001b[0m\u001b[0m\n\u001b[1;32m     17\u001b[0m \u001b[0;32mdef\u001b[0m \u001b[0msp_query_pairs\u001b[0m\u001b[0;34m(\u001b[0m\u001b[0msubj\u001b[0m\u001b[0;34m,\u001b[0m \u001b[0mentities\u001b[0m\u001b[0;34m)\u001b[0m\u001b[0;34m:\u001b[0m\u001b[0;34m\u001b[0m\u001b[0m\n\u001b[0;32m---> 18\u001b[0;31m     \u001b[0;32mreturn\u001b[0m \u001b[0;34m[\u001b[0m \u001b[0mpair_id\u001b[0m\u001b[0;34m(\u001b[0m\u001b[0msubj\u001b[0m\u001b[0;34m,\u001b[0m \u001b[0mobj\u001b[0m\u001b[0;34m)\u001b[0m \u001b[0;32mfor\u001b[0m \u001b[0mobj\u001b[0m \u001b[0;32min\u001b[0m \u001b[0mentities\u001b[0m \u001b[0;34m]\u001b[0m\u001b[0;34m\u001b[0m\u001b[0m\n\u001b[0m\u001b[1;32m     19\u001b[0m \u001b[0;34m\u001b[0m\u001b[0m\n\u001b[1;32m     20\u001b[0m \u001b[0;32mdef\u001b[0m \u001b[0mpo_query_reciprocal_rank\u001b[0m\u001b[0;34m(\u001b[0m\u001b[0mmodel\u001b[0m\u001b[0;34m,\u001b[0m \u001b[0msubj\u001b[0m\u001b[0;34m,\u001b[0m \u001b[0mrid\u001b[0m\u001b[0;34m,\u001b[0m \u001b[0mobj\u001b[0m\u001b[0;34m,\u001b[0m \u001b[0mentities\u001b[0m\u001b[0;34m)\u001b[0m\u001b[0;34m:\u001b[0m\u001b[0;34m\u001b[0m\u001b[0m\n",
      "\u001b[0;32m<ipython-input-33-c7c1a4ef0af5>\u001b[0m in \u001b[0;36mpair_id\u001b[0;34m(subj, obj)\u001b[0m\n\u001b[1;32m     39\u001b[0m \u001b[0;32mdef\u001b[0m \u001b[0mpair_id\u001b[0m\u001b[0;34m(\u001b[0m\u001b[0msubj\u001b[0m\u001b[0;34m,\u001b[0m \u001b[0mobj\u001b[0m\u001b[0;34m)\u001b[0m\u001b[0;34m:\u001b[0m\u001b[0;34m\u001b[0m\u001b[0m\n\u001b[1;32m     40\u001b[0m     \u001b[0;32mprint\u001b[0m \u001b[0msubj\u001b[0m\u001b[0;34m,\u001b[0m \u001b[0mobj\u001b[0m\u001b[0;34m\u001b[0m\u001b[0m\n\u001b[0;32m---> 41\u001b[0;31m     \u001b[0mpair\u001b[0m \u001b[0;34m=\u001b[0m \u001b[0mentity_pairs\u001b[0m\u001b[0;34m[\u001b[0m\u001b[0;34m(\u001b[0m\u001b[0mentity_pairs\u001b[0m\u001b[0;34m[\u001b[0m\u001b[0;34m'subj'\u001b[0m\u001b[0;34m]\u001b[0m \u001b[0;34m==\u001b[0m \u001b[0msubj\u001b[0m\u001b[0;34m)\u001b[0m \u001b[0;34m&\u001b[0m \u001b[0;34m(\u001b[0m\u001b[0mentity_pairs\u001b[0m\u001b[0;34m[\u001b[0m\u001b[0;34m'obj'\u001b[0m\u001b[0;34m]\u001b[0m \u001b[0;34m==\u001b[0m \u001b[0mobj\u001b[0m\u001b[0;34m)\u001b[0m\u001b[0;34m]\u001b[0m\u001b[0;34m\u001b[0m\u001b[0m\n\u001b[0m\u001b[1;32m     42\u001b[0m     \u001b[0;32mreturn\u001b[0m \u001b[0mpair\u001b[0m\u001b[0;34m[\u001b[0m\u001b[0;34m'pid'\u001b[0m\u001b[0;34m]\u001b[0m\u001b[0;34m.\u001b[0m\u001b[0mvalues\u001b[0m\u001b[0;34m[\u001b[0m\u001b[0;36m0\u001b[0m\u001b[0;34m]\u001b[0m\u001b[0;34m\u001b[0m\u001b[0m\n\u001b[1;32m     43\u001b[0m \u001b[0;34m\u001b[0m\u001b[0m\n",
      "\u001b[0;32m/usr/local/lib/python2.7/dist-packages/pandas/core/ops.pyc\u001b[0m in \u001b[0;36mwrapper\u001b[0;34m(self, other, axis)\u001b[0m\n\u001b[1;32m    733\u001b[0m             \u001b[0mname\u001b[0m \u001b[0;34m=\u001b[0m \u001b[0m_maybe_match_name\u001b[0m\u001b[0;34m(\u001b[0m\u001b[0mself\u001b[0m\u001b[0;34m,\u001b[0m \u001b[0mother\u001b[0m\u001b[0;34m)\u001b[0m\u001b[0;34m\u001b[0m\u001b[0m\n\u001b[1;32m    734\u001b[0m             \u001b[0;32mif\u001b[0m \u001b[0mlen\u001b[0m\u001b[0;34m(\u001b[0m\u001b[0mself\u001b[0m\u001b[0;34m)\u001b[0m \u001b[0;34m!=\u001b[0m \u001b[0mlen\u001b[0m\u001b[0;34m(\u001b[0m\u001b[0mother\u001b[0m\u001b[0;34m)\u001b[0m\u001b[0;34m:\u001b[0m\u001b[0;34m\u001b[0m\u001b[0m\n\u001b[0;32m--> 735\u001b[0;31m                 \u001b[0;32mraise\u001b[0m \u001b[0mValueError\u001b[0m\u001b[0;34m(\u001b[0m\u001b[0;34m'Series lengths must match to compare'\u001b[0m\u001b[0;34m)\u001b[0m\u001b[0;34m\u001b[0m\u001b[0m\n\u001b[0m\u001b[1;32m    736\u001b[0m             return self._constructor(na_op(self.values, other.values),\n\u001b[1;32m    737\u001b[0m                                      index=self.index, name=name)\n",
      "\u001b[0;31mValueError\u001b[0m: Series lengths must match to compare"
     ]
    }
   ],
   "source": [
    "triples['sp_reciprocal_rank'] = sp_query_reciprocal_rank(model, triples['subj'], triples['rid'], triples['obj'], entities)\n",
    "triples['po_reciprocal_rank'] = po_query_reciprocal_rank(model, triples['subj'], triples['rid'], triples['obj'], entities)\n",
    "triples['sp_hits_at_10'] = sp_query_hits_at_10(model, triples['subj'], triples['rid'], triples['obj'], entities)\n",
    "triples['po_hits_at_10'] = po_query_hits_at_10(model, triples['subj'], triples['rid'], triples['obj'], entities)\n",
    "\n",
    "mrr = (triples['sp_reciprocal_rank'].sum() + triples['po_reciprocal_rank'].sum()) / (np.float(len(triples)) * 2.0)\n",
    "hits_at_10 = (triples['sp_hits_at_10'].sum() + triples['po_hits_at_10'].sum()) / (np.float(len(triples)) * 2.0)\n",
    "\n",
    "print 'Mean reciprocal rank:', mrr\n",
    "print 'HITS@10:', hits_at_10"
   ]
  },
  {
   "cell_type": "markdown",
   "metadata": {},
   "source": [
    "## References\n",
    "\n",
    "[[1]](https://www.microsoft.com/en-us/download/details.aspx?id=52312) K. Toutanova, \"FB215-237 Knowledge Base Completion Dataset,\" Web page https://www.microsoft.com/en-us/download/details.aspx?id=52312, May 2016. Last accessed 2016-08-14.\n",
    "\n",
    "[[2]](https://www.microsoft.com/en-us/research/wp-content/uploads/2016/02/main_cvsc2015.pdf) K. Toutanova and D. Chen, “Observed versus latent features for knowledge base and text inference,” in 3rd Workshop on Continuous Vector Space Models and Their Compositionality, Jul. 2015."
   ]
  }
 ],
 "metadata": {
  "kernelspec": {
   "display_name": "Python 2",
   "language": "python",
   "name": "python2"
  },
  "language_info": {
   "codemirror_mode": {
    "name": "ipython",
    "version": 2
   },
   "file_extension": ".py",
   "mimetype": "text/x-python",
   "name": "python",
   "nbconvert_exporter": "python",
   "pygments_lexer": "ipython2",
   "version": "2.7.6"
  }
 },
 "nbformat": 4,
 "nbformat_minor": 0
}
