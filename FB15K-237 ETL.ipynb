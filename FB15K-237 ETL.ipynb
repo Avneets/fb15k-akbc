{
 "cells": [
  {
   "cell_type": "code",
   "execution_count": 1,
   "metadata": {
    "collapsed": false
   },
   "outputs": [],
   "source": [
    "import pandas as pd"
   ]
  },
  {
   "cell_type": "code",
   "execution_count": 2,
   "metadata": {
    "collapsed": false
   },
   "outputs": [],
   "source": [
    "BASE_DIR = './Release/'\n",
    "TRAIN_FILE = BASE_DIR + 'train.txt'\n",
    "TEST_FILE = BASE_DIR + 'test.txt'\n",
    "VALID_FILE = BASE_DIR + 'valid.txt'\n",
    "TEXT_EMNLP_FILE = BASE_DIR + 'text_emnlp.txt'\n",
    "TEXT_CVSC_FILE = BASE_DIR + 'text_cvsc.txt'\n",
    "TRAIN_CSV_FILE = 'fb15k_train.csv'\n",
    "VALID_CSV_FILE = 'fb15k_valid.csv'\n",
    "TEST_CSV_FILE = 'fb15k_test.csv'\n",
    "CVSC_ENTITIES_CSV_FILE = 'fb15k_cvsc_entities.csv'\n",
    "CVSC_TRAIN_CSV_FILE = 'fb15k_cvsc_train.csv'\n",
    "CVSC_PAIRS_CSV_FILE = 'fb15k_cvsc_pairs.csv'\n",
    "CVSC_RELATIONS_CSV_FILE = 'fb15k_cvsc_relations.csv'\n",
    "ENTITY_PAIRS = {}\n",
    "RELATIONS = {}"
   ]
  },
  {
   "cell_type": "code",
   "execution_count": 3,
   "metadata": {
    "collapsed": true
   },
   "outputs": [],
   "source": [
    "def index(val, idx):\n",
    "    if val not in idx:\n",
    "        idx[val] = len(idx)\n",
    "    return idx[val]"
   ]
  },
  {
   "cell_type": "code",
   "execution_count": 4,
   "metadata": {
    "collapsed": false
   },
   "outputs": [],
   "source": [
    "def add_id_columns(df):\n",
    "    df['pair'] = df['subj'] + ':' + df['obj']\n",
    "    df['pid'] = df['pair'].apply(lambda x: index(x, ENTITY_PAIRS))\n",
    "    df['rid'] = df['rel'].apply(lambda x: index(x, RELATIONS))"
   ]
  },
  {
   "cell_type": "markdown",
   "metadata": {},
   "source": [
    "## Prepare KB triples train/validate/test sets"
   ]
  },
  {
   "cell_type": "code",
   "execution_count": 5,
   "metadata": {
    "collapsed": false
   },
   "outputs": [
    {
     "name": "stdout",
     "output_type": "stream",
     "text": [
      "Train KB triples: 272115\n",
      "Saved to fb15k_train.csv\n"
     ]
    }
   ],
   "source": [
    "train_kb_triples = pd.read_csv(TRAIN_FILE, sep='\\t', names=['subj', 'rel', 'obj'])\n",
    "add_id_columns(train_kb_triples)\n",
    "print 'Train KB triples:', len(train_kb_triples)\n",
    "train_kb_triples.to_csv(TRAIN_CSV_FILE, sep='\\t', header=True, columns=['subj', 'rel', 'obj', 'pid', 'rid'])\n",
    "print 'Saved to', TRAIN_CSV_FILE"
   ]
  },
  {
   "cell_type": "code",
   "execution_count": 6,
   "metadata": {
    "collapsed": false
   },
   "outputs": [
    {
     "name": "stdout",
     "output_type": "stream",
     "text": [
      "Validation KB triples: 17535\n",
      "Saved to fb15k_valid.csv\n"
     ]
    }
   ],
   "source": [
    "valid_kb_triples = pd.read_csv(VALID_FILE, sep='\\t', names=['subj', 'rel', 'obj'])\n",
    "add_id_columns(valid_kb_triples)\n",
    "print 'Validation KB triples:', len(valid_kb_triples)\n",
    "valid_kb_triples.to_csv(VALID_CSV_FILE, sep='\\t', header=True, columns=['subj', 'rel', 'obj', 'pid', 'rid'])\n",
    "print 'Saved to', VALID_CSV_FILE"
   ]
  },
  {
   "cell_type": "code",
   "execution_count": 7,
   "metadata": {
    "collapsed": false
   },
   "outputs": [
    {
     "name": "stdout",
     "output_type": "stream",
     "text": [
      "Test KB triples: 20466\n",
      "Saved to fb15k_test.csv\n"
     ]
    }
   ],
   "source": [
    "test_kb_triples = pd.read_csv(TEST_FILE, sep='\\t', names=['subj', 'rel', 'obj'])\n",
    "add_id_columns(test_kb_triples)\n",
    "print 'Test KB triples:', len(test_kb_triples)\n",
    "test_kb_triples.to_csv(TEST_CSV_FILE, sep='\\t', header=True, columns=['subj', 'rel', 'obj', 'pid', 'rid'])\n",
    "print 'Saved to', TEST_CSV_FILE"
   ]
  },
  {
   "cell_type": "markdown",
   "metadata": {},
   "source": [
    "## Prepare CVSC datasets"
   ]
  },
  {
   "cell_type": "code",
   "execution_count": 8,
   "metadata": {
    "collapsed": false
   },
   "outputs": [
    {
     "name": "stdout",
     "output_type": "stream",
     "text": [
      "Text triples (CVSC): 6600401\n",
      "Training triples (CVSC): 6872516\n",
      "Saved to fb15k_cvsc_train.csv\n"
     ]
    }
   ],
   "source": [
    "cvsc_text_triples = pd.read_csv(TEXT_CVSC_FILE, sep='\\t', names=['subj', 'rel', 'obj', 'occ'])\n",
    "add_id_columns(cvsc_text_triples)\n",
    "print 'Text triples (CVSC):', len(cvsc_text_triples)\n",
    "cvsc_train_triples = pd.concat([train_kb_triples, cvsc_text_triples], join=\"outer\")\n",
    "print 'Training triples (CVSC):', len(cvsc_train_triples)\n",
    "cvsc_train_triples.to_csv(CVSC_TRAIN_CSV_FILE, sep='\\t', header=True, columns=['subj', 'rel', 'obj', 'pid', 'rid', 'occ'])\n",
    "print 'Saved to', CVSC_TRAIN_CSV_FILE"
   ]
  },
  {
   "cell_type": "code",
   "execution_count": 9,
   "metadata": {
    "collapsed": false
   },
   "outputs": [
    {
     "name": "stdout",
     "output_type": "stream",
     "text": [
      "Entities: 14282\n",
      "Saved to fb15k_cvsc_entities.csv\n"
     ]
    }
   ],
   "source": [
    "cvsc_entities = cvsc_text_triples['subj'].combine_first(cvsc_text_triples['obj']).drop_duplicates()\n",
    "cvsc_entities.name = \"entity\"\n",
    "print 'Entities:', len(cvsc_entities)\n",
    "cvsc_entities.to_csv(CVSC_ENTITIES_CSV_FILE, sep='\\t', header=True)\n",
    "print 'Saved to', CVSC_ENTITIES_CSV_FILE"
   ]
  },
  {
   "cell_type": "code",
   "execution_count": 10,
   "metadata": {
    "collapsed": false
   },
   "outputs": [
    {
     "name": "stdout",
     "output_type": "stream",
     "text": [
      "Entity pairs (CVSC): 2966835\n",
      "Saved to fb15k_cvsc_pairs.csv\n"
     ]
    }
   ],
   "source": [
    "cvsc_pairs = cvsc_train_triples[['subj', 'obj', 'pid']].drop_duplicates()\n",
    "print 'Entity pairs (CVSC):', len(cvsc_pairs)\n",
    "cvsc_pairs.to_csv(CVSC_PAIRS_CSV_FILE, sep='\\t', header=True, columns=['subj', 'obj', 'pid'])\n",
    "print 'Saved to', CVSC_PAIRS_CSV_FILE"
   ]
  },
  {
   "cell_type": "code",
   "execution_count": 11,
   "metadata": {
    "collapsed": false
   },
   "outputs": [
    {
     "name": "stdout",
     "output_type": "stream",
     "text": [
      "Relations (CVSC): 26154\n",
      "Saved to fb15k_cvsc_relations.csv\n"
     ]
    }
   ],
   "source": [
    "cvsc_relations = cvsc_train_triples[['rel', 'rid']].drop_duplicates()\n",
    "print 'Relations (CVSC):', len(cvsc_relations)\n",
    "cvsc_relations.to_csv(CVSC_RELATIONS_CSV_FILE, sep='\\t', header=True, columns=['rel', 'rid'])\n",
    "print 'Saved to', CVSC_RELATIONS_CSV_FILE"
   ]
  },
  {
   "cell_type": "code",
   "execution_count": 12,
   "metadata": {
    "collapsed": false
   },
   "outputs": [
    {
     "name": "stdout",
     "output_type": "stream",
     "text": [
      "Pairs: 2995738\n",
      "Relations: 26154\n"
     ]
    }
   ],
   "source": [
    "print 'Pairs:', cvsc_train_triples['pid'].max() + 1\n",
    "print 'Relations:', cvsc_train_triples['rid'].max() + 1"
   ]
  }
 ],
 "metadata": {
  "kernelspec": {
   "display_name": "Python 2",
   "language": "python",
   "name": "python2"
  },
  "language_info": {
   "codemirror_mode": {
    "name": "ipython",
    "version": 2
   },
   "file_extension": ".py",
   "mimetype": "text/x-python",
   "name": "python",
   "nbconvert_exporter": "python",
   "pygments_lexer": "ipython2",
   "version": "2.7.6"
  }
 },
 "nbformat": 4,
 "nbformat_minor": 0
}
