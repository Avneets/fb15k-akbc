{
 "cells": [
  {
   "cell_type": "code",
   "execution_count": 1,
   "metadata": {
    "collapsed": false
   },
   "outputs": [],
   "source": [
    "import pandas as pd"
   ]
  },
  {
   "cell_type": "code",
   "execution_count": 33,
   "metadata": {
    "collapsed": false
   },
   "outputs": [],
   "source": [
    "BASE_DIR = './Release/'\n",
    "TRAIN_FILE = BASE_DIR + 'train.txt'\n",
    "TEST_FILE = BASE_DIR + 'test.txt'\n",
    "VALID_FILE = BASE_DIR + 'valid.txt'\n",
    "TEXT_EMNLP_FILE = BASE_DIR + 'text_emnlp.txt'\n",
    "TEXT_CVSC_FILE = BASE_DIR + 'text_cvsc.txt'\n",
    "VALID_CSV_FILE = 'fb15k_valid.csv'\n",
    "TEST_CSV_FILE = 'fb15k_test.csv'\n",
    "ENTITIES_CSV_FILE = 'fb15k_entities.csv'\n",
    "RELATIONS_CSV_FILE = 'fb15k_relations.csv'\n",
    "EMNLP_TRAIN_CSV_FILE = 'fb15k_emnlp_train.csv'\n",
    "CVSC_TRAIN_CSV_FILE = 'fb15k_cvsc_train.csv'\n",
    "EMNLP_PAIRS_CSV_FILE = 'fb15k_emnlp_pairs.csv'\n",
    "CVSC_PAIRS_CSV_FILE = 'fb15k_cvsc_pairs.csv'\n",
    "EMNLP_RELATIONS_CSV_FILE = 'fb15k_emnlp_relations.csv'\n",
    "CVSC_RELATIONS_CSV_FILE = 'fb15k_cvsc_relations.csv'\n",
    "ENTITY_PAIRS = {}\n",
    "RELATIONS = {}"
   ]
  },
  {
   "cell_type": "code",
   "execution_count": 3,
   "metadata": {
    "collapsed": true
   },
   "outputs": [],
   "source": [
    "def index(val, idx):\n",
    "    if val not in idx:\n",
    "        idx[val] = len(idx)\n",
    "    return idx[val]"
   ]
  },
  {
   "cell_type": "code",
   "execution_count": 4,
   "metadata": {
    "collapsed": false
   },
   "outputs": [],
   "source": [
    "def add_id_columns(df):\n",
    "    df['pair'] = df['subj'] + ':' + df['obj']\n",
    "    df['pid'] = df['pair'].apply(lambda x: index(x, ENTITY_PAIRS))\n",
    "    df['rid'] = df['rel'].apply(lambda x: index(x, RELATIONS))"
   ]
  },
  {
   "cell_type": "markdown",
   "metadata": {},
   "source": [
    "## Prepare KB triples train/validate/test sets"
   ]
  },
  {
   "cell_type": "code",
   "execution_count": 5,
   "metadata": {
    "collapsed": false
   },
   "outputs": [
    {
     "name": "stdout",
     "output_type": "stream",
     "text": [
      "Train KB triples: 272115\n"
     ]
    }
   ],
   "source": [
    "train_kb_triples = pd.read_csv(TRAIN_FILE, sep='\\t', names=['subj', 'rel', 'obj'])\n",
    "add_id_columns(train_kb_triples)\n",
    "print 'Train KB triples:', len(train_kb_triples)"
   ]
  },
  {
   "cell_type": "code",
   "execution_count": 27,
   "metadata": {
    "collapsed": false
   },
   "outputs": [
    {
     "name": "stdout",
     "output_type": "stream",
     "text": [
      "Validation KB triples: 17535\n",
      "Saved to fb15k_valid.csv\n"
     ]
    }
   ],
   "source": [
    "valid_kb_triples = pd.read_csv(VALID_FILE, sep='\\t', names=['subj', 'rel', 'obj'])\n",
    "add_id_columns(valid_kb_triples)\n",
    "print 'Validation KB triples:', len(valid_kb_triples)\n",
    "valid_kb_triples.to_csv(VALID_CSV_FILE, sep='\\t', header=True, columns=['subj', 'rel', 'obj', 'pid', 'rid'])\n",
    "print 'Saved to', VALID_CSV_FILE"
   ]
  },
  {
   "cell_type": "code",
   "execution_count": 7,
   "metadata": {
    "collapsed": false
   },
   "outputs": [
    {
     "name": "stdout",
     "output_type": "stream",
     "text": [
      "Test KB triples: 20466\n",
      "Saved to fb15k_test.csv\n"
     ]
    }
   ],
   "source": [
    "test_kb_triples = pd.read_csv(TEST_FILE, sep='\\t', names=['subj', 'rel', 'obj'])\n",
    "add_id_columns(test_kb_triples)\n",
    "print 'Test KB triples:', len(test_kb_triples)\n",
    "test_kb_triples.to_csv(TEST_CSV_FILE, sep='\\t', header=True, columns=['subj', 'rel', 'obj', 'pid', 'rid'])\n",
    "print 'Saved to', TEST_CSV_FILE"
   ]
  },
  {
   "cell_type": "markdown",
   "metadata": {},
   "source": [
    "## Count KB entities and relations"
   ]
  },
  {
   "cell_type": "code",
   "execution_count": 8,
   "metadata": {
    "collapsed": false
   },
   "outputs": [
    {
     "name": "stdout",
     "output_type": "stream",
     "text": [
      "Entities: 14505\n",
      "Saved to fb15k_entities.csv\n"
     ]
    }
   ],
   "source": [
    "entities = pd.DataFrame()\n",
    "entities['entity'] = pd.concat([train_kb_triples['subj'], train_kb_triples['obj']]).drop_duplicates()\n",
    "print 'Entities:', len(entities)\n",
    "entities.to_csv(ENTITIES_CSV_FILE, sep='\\t', header=True, columns=['entity'])\n",
    "print 'Saved to', ENTITIES_CSV_FILE"
   ]
  },
  {
   "cell_type": "code",
   "execution_count": 9,
   "metadata": {
    "collapsed": false
   },
   "outputs": [
    {
     "name": "stdout",
     "output_type": "stream",
     "text": [
      "Relations: 237\n",
      "Saved to fb15k_relations.csv\n"
     ]
    }
   ],
   "source": [
    "relations = pd.DataFrame()\n",
    "relations['rel'] = pd.concat([\n",
    "                              train_kb_triples['rel']\n",
    "                             ]).drop_duplicates()\n",
    "relations['rid'] = relations['rel'].apply(lambda x: index(x, RELATIONS))\n",
    "print 'Relations:', len(relations)\n",
    "relations.to_csv(RELATIONS_CSV_FILE, sep='\\t', header=True, columns=['rel', 'rid'])\n",
    "print 'Saved to', RELATIONS_CSV_FILE"
   ]
  },
  {
   "cell_type": "markdown",
   "metadata": {},
   "source": [
    "## Prepare EMNLP datasets"
   ]
  },
  {
   "cell_type": "code",
   "execution_count": 10,
   "metadata": {
    "collapsed": false
   },
   "outputs": [
    {
     "name": "stdout",
     "output_type": "stream",
     "text": [
      "Text triples (EMNLP): 3978014\n",
      "Training triples (EMNLP): 4250129\n",
      "Saved to fb15k_emnlp_train.csv\n"
     ]
    }
   ],
   "source": [
    "emnlp_text_triples = pd.read_csv(TEXT_EMNLP_FILE, sep='\\t', names=['subj', 'rel', 'obj', 'occ'])\n",
    "add_id_columns(emnlp_text_triples)\n",
    "print 'Text triples (EMNLP):', len(emnlp_text_triples)\n",
    "emnlp_train_triples = pd.concat([train_kb_triples, emnlp_text_triples], join=\"outer\")\n",
    "print 'Training triples (EMNLP):', len(emnlp_train_triples)\n",
    "emnlp_train_triples.to_csv(EMNLP_TRAIN_CSV_FILE, sep='\\t', header=True, columns=['subj', 'rel', 'obj', 'pid', 'rid', 'occ'])\n",
    "print 'Saved to', EMNLP_TRAIN_CSV_FILE"
   ]
  },
  {
   "cell_type": "code",
   "execution_count": 37,
   "metadata": {
    "collapsed": false
   },
   "outputs": [
    {
     "data": {
      "text/plain": [
       "2740403"
      ]
     },
     "execution_count": 37,
     "metadata": {},
     "output_type": "execute_result"
    }
   ],
   "source": [
    "len(emnlp_text_triples[['rel']].drop_duplicates())"
   ]
  },
  {
   "cell_type": "code",
   "execution_count": 30,
   "metadata": {
    "collapsed": false
   },
   "outputs": [
    {
     "name": "stdout",
     "output_type": "stream",
     "text": [
      "Entity pairs (EMNLP): 2014530\n",
      "Saved to fb15k_emnlp_pairs.csv\n"
     ]
    }
   ],
   "source": [
    "emnlp_pairs = emnlp_train_triples[['subj', 'obj', 'pid']].drop_duplicates()\n",
    "print 'Entity pairs (EMNLP):', len(emnlp_pairs)\n",
    "emnlp_pairs.to_csv(EMNLP_PAIRS_CSV_FILE, sep='\\t', header=True, columns=['subj', 'obj', 'pid'])\n",
    "print 'Saved to', EMNLP_PAIRS_CSV_FILE"
   ]
  },
  {
   "cell_type": "code",
   "execution_count": 34,
   "metadata": {
    "collapsed": false
   },
   "outputs": [
    {
     "name": "stdout",
     "output_type": "stream",
     "text": [
      "Relations (EMNLP): 2740640\n",
      "Saved to fb15k_emnlp_relations.csv\n"
     ]
    }
   ],
   "source": [
    "emnlp_relations = emnlp_train_triples[['rel', 'rid']].drop_duplicates()\n",
    "print 'Relations (EMNLP):', len(emnlp_relations)\n",
    "emnlp_relations.to_csv(EMNLP_RELATIONS_CSV_FILE, sep='\\t', header=True, columns=['rel', 'rid'])\n",
    "print 'Saved to', EMNLP_RELATIONS_CSV_FILE"
   ]
  },
  {
   "cell_type": "markdown",
   "metadata": {},
   "source": [
    "## Prepare CVSC datasets"
   ]
  },
  {
   "cell_type": "code",
   "execution_count": 11,
   "metadata": {
    "collapsed": false
   },
   "outputs": [
    {
     "name": "stdout",
     "output_type": "stream",
     "text": [
      "Text triples (CVSC): 6600401\n",
      "Training triples (CVSC): 6872516\n",
      "Saved to fb15k_cvsc_train.csv\n"
     ]
    }
   ],
   "source": [
    "cvsc_text_triples = pd.read_csv(TEXT_CVSC_FILE, sep='\\t', names=['subj', 'rel', 'obj', 'occ'])\n",
    "add_id_columns(cvsc_text_triples)\n",
    "print 'Text triples (CVSC):', len(cvsc_text_triples)\n",
    "cvsc_train_triples = pd.concat([train_kb_triples, cvsc_text_triples], join=\"outer\")\n",
    "print 'Training triples (CVSC):', len(cvsc_train_triples)\n",
    "cvsc_train_triples.to_csv(CVSC_TRAIN_CSV_FILE, sep='\\t', header=True, columns=['subj', 'rel', 'obj', 'pid', 'rid', 'occ'])\n",
    "print 'Saved to', CVSC_TRAIN_CSV_FILE"
   ]
  },
  {
   "cell_type": "code",
   "execution_count": 38,
   "metadata": {
    "collapsed": false
   },
   "outputs": [
    {
     "data": {
      "text/plain": [
       "25917"
      ]
     },
     "execution_count": 38,
     "metadata": {},
     "output_type": "execute_result"
    }
   ],
   "source": [
    "len(cvsc_text_triples[['rel']].drop_duplicates())"
   ]
  },
  {
   "cell_type": "code",
   "execution_count": 31,
   "metadata": {
    "collapsed": false
   },
   "outputs": [
    {
     "name": "stdout",
     "output_type": "stream",
     "text": [
      "Entity pairs (CVSC): 2966835\n",
      "Saved to fb15k_cvsc_pairs.csv\n"
     ]
    }
   ],
   "source": [
    "cvsc_pairs = cvsc_train_triples[['subj', 'obj', 'pid']].drop_duplicates()\n",
    "print 'Entity pairs (CVSC):', len(cvsc_pairs)\n",
    "cvsc_pairs.to_csv(CVSC_PAIRS_CSV_FILE, sep='\\t', header=True, columns=['subj', 'obj', 'pid'])\n",
    "print 'Saved to', CVSC_PAIRS_CSV_FILE"
   ]
  },
  {
   "cell_type": "code",
   "execution_count": 35,
   "metadata": {
    "collapsed": false
   },
   "outputs": [
    {
     "name": "stdout",
     "output_type": "stream",
     "text": [
      "Relations (CVSC): 26154\n",
      "Saved to fb15k_cvsc_relations.csv\n"
     ]
    }
   ],
   "source": [
    "cvsc_relations = cvsc_train_triples[['rel', 'rid']].drop_duplicates()\n",
    "print 'Relations (CVSC):', len(cvsc_relations)\n",
    "cvsc_relations.to_csv(CVSC_RELATIONS_CSV_FILE, sep='\\t', header=True, columns=['rel', 'rid'])\n",
    "print 'Saved to', CVSC_RELATIONS_CSV_FILE"
   ]
  }
 ],
 "metadata": {
  "kernelspec": {
   "display_name": "Python 2",
   "language": "python",
   "name": "python2"
  },
  "language_info": {
   "codemirror_mode": {
    "name": "ipython",
    "version": 2
   },
   "file_extension": ".py",
   "mimetype": "text/x-python",
   "name": "python",
   "nbconvert_exporter": "python",
   "pygments_lexer": "ipython2",
   "version": "2.7.11"
  }
 },
 "nbformat": 4,
 "nbformat_minor": 0
}
