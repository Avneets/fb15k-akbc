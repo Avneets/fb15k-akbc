{
 "cells": [
  {
   "cell_type": "markdown",
   "metadata": {},
   "source": [
    "## Import packages"
   ]
  },
  {
   "cell_type": "code",
   "execution_count": 8,
   "metadata": {
    "collapsed": false
   },
   "outputs": [],
   "source": [
    "import pandas as pd\n",
    "import numpy as np\n",
    "from keras.callbacks import EarlyStopping, ModelCheckpoint\n",
    "from CFModel import CFModel"
   ]
  },
  {
   "cell_type": "code",
   "execution_count": 2,
   "metadata": {
    "collapsed": false
   },
   "outputs": [],
   "source": [
    "CVSC_TRAIN_CSV_FILE = 'fb15k_cvsc_train.csv'\n",
    "MODEL_WEIGHTS_FILE = 'fb15k_cvsc_weights.h5'\n",
    "RNG_SEED = 1446557\n",
    "K_FACTORS = 20"
   ]
  },
  {
   "cell_type": "markdown",
   "metadata": {},
   "source": [
    "## Load CVSC training triples"
   ]
  },
  {
   "cell_type": "code",
   "execution_count": 3,
   "metadata": {
    "collapsed": true
   },
   "outputs": [],
   "source": [
    "triples = pd.read_csv(CVSC_TRAIN_CSV_FILE, sep='\\t', usecols=['pid', 'rid']).sample(frac=1., random_state=RNG_SEED)"
   ]
  },
  {
   "cell_type": "code",
   "execution_count": 4,
   "metadata": {
    "collapsed": false
   },
   "outputs": [
    {
     "name": "stdout",
     "output_type": "stream",
     "text": [
      "2995738 pairs, 26154 relations\n"
     ]
    }
   ],
   "source": [
    "n_pairs = triples['pid'].max() + 1\n",
    "m_relations = triples['rid'].max() + 1\n",
    "print n_pairs, 'pairs,', m_relations, 'relations'"
   ]
  },
  {
   "cell_type": "markdown",
   "metadata": {},
   "source": [
    "## Define model"
   ]
  },
  {
   "cell_type": "code",
   "execution_count": 5,
   "metadata": {
    "collapsed": false
   },
   "outputs": [],
   "source": [
    "model = CFModel(n_pairs, m_relations, K_FACTORS)\n",
    "model.compile(loss='mse', optimizer='adamax')"
   ]
  },
  {
   "cell_type": "markdown",
   "metadata": {},
   "source": [
    "## Train model"
   ]
  },
  {
   "cell_type": "code",
   "execution_count": 9,
   "metadata": {
    "collapsed": false,
    "scrolled": false
   },
   "outputs": [
    {
     "name": "stdout",
     "output_type": "stream",
     "text": [
      "Train on 6185264 samples, validate on 687252 samples\n",
      "Epoch 1/2\n",
      "6185264/6185264 [==============================] - 6725s - loss: 0.9799 - val_loss: 0.9187\n",
      "Epoch 2/2\n",
      "6185264/6185264 [==============================] - 6743s - loss: 0.7508 - val_loss: 0.7293\n"
     ]
    },
    {
     "data": {
      "text/plain": [
       "<keras.callbacks.History at 0x7fd437896c10>"
      ]
     },
     "execution_count": 9,
     "metadata": {},
     "output_type": "execute_result"
    }
   ],
   "source": [
    "callbacks = [EarlyStopping('val_loss', patience=2), ModelCheckpoint(MODEL_WEIGHTS_FILE, save_best_only=True)]\n",
    "\n",
    "model.fit([triples['pid'].values, triples['rid'].values], np.ones(len(triples)), \n",
    "             nb_epoch=2, validation_split=.1, verbose=1, callbacks=callbacks)"
   ]
  },
  {
   "cell_type": "code",
   "execution_count": 10,
   "metadata": {
    "collapsed": false
   },
   "outputs": [
    {
     "name": "stdout",
     "output_type": "stream",
     "text": [
      "Train on 6185264 samples, validate on 687252 samples\n",
      "Epoch 1/2\n",
      "6185264/6185264 [==============================] - 6747s - loss: 0.5372 - val_loss: 0.6099\n",
      "Epoch 2/2\n",
      "6185264/6185264 [==============================] - 6752s - loss: 0.4015 - val_loss: 0.5344\n"
     ]
    },
    {
     "data": {
      "text/plain": [
       "<keras.callbacks.History at 0x7fd451a56b50>"
      ]
     },
     "execution_count": 10,
     "metadata": {},
     "output_type": "execute_result"
    }
   ],
   "source": [
    "model.fit([triples['pid'].values, triples['rid'].values], np.ones(len(triples)), \n",
    "             nb_epoch=2, validation_split=.1, verbose=1, callbacks=callbacks)"
   ]
  },
  {
   "cell_type": "code",
   "execution_count": 11,
   "metadata": {
    "collapsed": false
   },
   "outputs": [
    {
     "name": "stdout",
     "output_type": "stream",
     "text": [
      "Train on 6185264 samples, validate on 687252 samples\n",
      "Epoch 1/3\n",
      "6185264/6185264 [==============================] - 6753s - loss: 0.3074 - val_loss: 0.4843\n",
      "Epoch 2/3\n",
      "6185264/6185264 [==============================] - 6758s - loss: 0.2387 - val_loss: 0.4493\n",
      "Epoch 3/3\n",
      "6185264/6185264 [==============================] - 6756s - loss: 0.1869 - val_loss: 0.4239\n"
     ]
    },
    {
     "data": {
      "text/plain": [
       "<keras.callbacks.History at 0x7fd451831710>"
      ]
     },
     "execution_count": 11,
     "metadata": {},
     "output_type": "execute_result"
    }
   ],
   "source": [
    "model.fit([triples['pid'].values, triples['rid'].values], np.ones(len(triples)), \n",
    "             nb_epoch=3, validation_split=.1, verbose=1, callbacks=callbacks)"
   ]
  },
  {
   "cell_type": "code",
   "execution_count": null,
   "metadata": {
    "collapsed": true
   },
   "outputs": [],
   "source": []
  }
 ],
 "metadata": {
  "kernelspec": {
   "display_name": "Python 2",
   "language": "python",
   "name": "python2"
  },
  "language_info": {
   "codemirror_mode": {
    "name": "ipython",
    "version": 2
   },
   "file_extension": ".py",
   "mimetype": "text/x-python",
   "name": "python",
   "nbconvert_exporter": "python",
   "pygments_lexer": "ipython2",
   "version": "2.7.6"
  }
 },
 "nbformat": 4,
 "nbformat_minor": 0
}
